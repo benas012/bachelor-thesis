{
 "cells": [
  {
   "cell_type": "code",
   "execution_count": 7,
   "id": "c747bcb3",
   "metadata": {},
   "outputs": [],
   "source": [
    "import os\n",
    "import torch\n",
    "import torch.nn as nn\n",
    "import timm\n",
    "from torchvision import transforms, models\n",
    "from torch.utils.data import Dataset, DataLoader, random_split\n",
    "from PIL import Image\n",
    "from sklearn.metrics import mean_absolute_error, r2_score\n",
    "import numpy as np"
   ]
  },
  {
   "cell_type": "code",
   "execution_count": null,
   "id": "e3bd99f4",
   "metadata": {},
   "outputs": [],
   "source": [
    "class CTRDataset(Dataset):\n",
    "    def __init__(self, folder_path, transform=None, ctr_min=0.0, ctr_max=0.27):\n",
    "        self.folder_path = folder_path\n",
    "        self.image_files = os.listdir(folder_path)\n",
    "        self.transform = transform\n",
    "        self.ctr_min = ctr_min\n",
    "        self.ctr_max = ctr_max\n",
    "\n",
    "    def __len__(self):\n",
    "        return len(self.image_files)\n",
    "\n",
    "    def __getitem__(self, idx):\n",
    "        filename = self.image_files[idx]\n",
    "        ctr, _, _ = filename.split(\"_\", 2)\n",
    "        ctr = float(ctr) / 100.0 \n",
    "        ctr = (ctr - self.ctr_min) / (self.ctr_max - self.ctr_min)\n",
    "        img_path = os.path.join(self.folder_path, filename)\n",
    "        image = Image.open(img_path).convert(\"RGB\")\n",
    "        if self.transform:\n",
    "            image = self.transform(image)\n",
    "        return image, torch.tensor([ctr], dtype=torch.float32)"
   ]
  },
  {
   "cell_type": "code",
   "execution_count": 9,
   "id": "6edb964b",
   "metadata": {},
   "outputs": [],
   "source": [
    "transform = transforms.Compose([\n",
    "    transforms.Resize((224, 224)),\n",
    "    transforms.ToTensor(),\n",
    "])\n",
    "\n",
    "\n",
    "dataset = CTRDataset(\"filtered_images\", transform)\n",
    "val_size = int(0.2 * len(dataset))\n",
    "train_size = len(dataset) - val_size\n",
    "train_dataset, val_dataset = random_split(dataset, [train_size, val_size])\n",
    "\n",
    "train_loader = DataLoader(train_dataset, batch_size=16, shuffle=True)\n",
    "val_loader = DataLoader(val_dataset, batch_size=16, shuffle=False)"
   ]
  },
  {
   "cell_type": "code",
   "execution_count": null,
   "id": "b3010953",
   "metadata": {},
   "outputs": [],
   "source": [
    "\n",
    "model = timm.create_model(\"deit_small_patch16_224\", pretrained=True)\n",
    "\n",
    "for param in model.parameters():\n",
    "    param.requires_grad = False\n",
    "\n",
    "in_features = model.head.in_features\n",
    "model.head = nn.Sequential(\n",
    "    nn.Linear(in_features, 256),\n",
    "    nn.BatchNorm1d(256),\n",
    "    nn.ReLU(),\n",
    "    nn.Dropout(0.3),\n",
    "    nn.Linear(256, 1)\n",
    ")\n"
   ]
  },
  {
   "cell_type": "code",
   "execution_count": 12,
   "id": "6b29733e",
   "metadata": {},
   "outputs": [
    {
     "name": "stdout",
     "output_type": "stream",
     "text": [
      "Epoch 1, Train Loss: 0.0230, Val Loss: 0.0180, MAE: 0.0906, R²: -0.4057\n",
      "Epoch 2, Train Loss: 0.0172, Val Loss: 0.0147, MAE: 0.0896, R²: -0.1388\n",
      "Epoch 3, Train Loss: 0.0100, Val Loss: 0.0132, MAE: 0.0783, R²: -0.0383\n",
      "Epoch 4, Train Loss: 0.0092, Val Loss: 0.0113, MAE: 0.0760, R²: 0.1046\n",
      "Epoch 5, Train Loss: 0.0087, Val Loss: 0.0116, MAE: 0.0715, R²: 0.0772\n",
      "Epoch 6, Train Loss: 0.0089, Val Loss: 0.0127, MAE: 0.0792, R²: -0.0031\n",
      "Epoch 7, Train Loss: 0.0070, Val Loss: 0.0123, MAE: 0.0726, R²: 0.0247\n",
      "Epoch 8, Train Loss: 0.0065, Val Loss: 0.0132, MAE: 0.0735, R²: -0.0354\n",
      "Epoch 9, Train Loss: 0.0072, Val Loss: 0.0118, MAE: 0.0790, R²: 0.0812\n",
      "Epoch 10, Train Loss: 0.0082, Val Loss: 0.0129, MAE: 0.0752, R²: -0.0198\n"
     ]
    }
   ],
   "source": [
    "device = torch.device(\"cuda\" if torch.cuda.is_available() else \"cpu\")\n",
    "model = model.to(device)\n",
    "\n",
    "# Loss and optimizer\n",
    "criterion = nn.MSELoss()\n",
    "optimizer = torch.optim.Adam(model.head.parameters(), lr=1e-3)\n",
    "\n",
    "# Training loop\n",
    "best_val_loss = float('inf')\n",
    "for epoch in range(10):\n",
    "    model.train()\n",
    "    running_loss = 0.0\n",
    "    for imgs, targets in train_loader:\n",
    "        imgs, targets = imgs.to(device), targets.to(device)\n",
    "\n",
    "        optimizer.zero_grad()\n",
    "        outputs = model(imgs)\n",
    "        loss = criterion(outputs, targets)\n",
    "        loss.backward()\n",
    "        optimizer.step()\n",
    "        running_loss += loss.item()\n",
    "\n",
    "    # Validation\n",
    "    model.eval()\n",
    "    val_loss = 0.0\n",
    "    all_preds, all_targets = [], []\n",
    "    with torch.no_grad():\n",
    "        for imgs, targets in val_loader:\n",
    "            imgs, targets = imgs.to(device), targets.to(device)\n",
    "            outputs = model(imgs)\n",
    "            loss = criterion(outputs, targets)\n",
    "            val_loss += loss.item()\n",
    "\n",
    "            all_preds.extend(outputs.cpu().numpy().flatten())\n",
    "            all_targets.extend(targets.cpu().numpy().flatten())\n",
    "\n",
    "    # Metrics\n",
    "    avg_train_loss = running_loss / len(train_loader)\n",
    "    avg_val_loss = val_loss / len(val_loader)\n",
    "    mae = mean_absolute_error(all_targets, all_preds)\n",
    "    r2 = r2_score(all_targets, all_preds)\n",
    "\n",
    "    print(f\"Epoch {epoch+1}, Train Loss: {avg_train_loss:.4f}, Val Loss: {avg_val_loss:.4f}, MAE: {mae:.4f}, R²: {r2:.4f}\")\n"
   ]
  },
  {
   "cell_type": "code",
   "execution_count": 2,
   "id": "092c4039",
   "metadata": {},
   "outputs": [
    {
     "name": "stdout",
     "output_type": "stream",
     "text": [
      "Number of images: 675\n"
     ]
    }
   ],
   "source": [
    "import os\n",
    "\n",
    "# Define the path\n",
    "path = r\"C:\\Users\\benas\\OneDrive\\Desktop\\University\\Bachelor\\solution\\data\\maxima\\filtered_images\"\n",
    "\n",
    "# Supported image extensions\n",
    "image_extensions = {\".jpg\", \".jpeg\", \".png\", \".bmp\", \".gif\", \".tiff\", \".webp\"}\n",
    "\n",
    "# Count image files\n",
    "image_count = sum(\n",
    "    1 for file in os.listdir(path)\n",
    "    if os.path.isfile(os.path.join(path, file)) and os.path.splitext(file)[1].lower() in image_extensions\n",
    ")\n",
    "\n",
    "print(f\"Number of images: {image_count}\")"
   ]
  },
  {
   "cell_type": "code",
   "execution_count": null,
   "id": "4b073e24",
   "metadata": {},
   "outputs": [],
   "source": []
  }
 ],
 "metadata": {
  "kernelspec": {
   "display_name": "Python 3",
   "language": "python",
   "name": "python3"
  },
  "language_info": {
   "codemirror_mode": {
    "name": "ipython",
    "version": 3
   },
   "file_extension": ".py",
   "mimetype": "text/x-python",
   "name": "python",
   "nbconvert_exporter": "python",
   "pygments_lexer": "ipython3",
   "version": "3.11.9"
  }
 },
 "nbformat": 4,
 "nbformat_minor": 5
}
